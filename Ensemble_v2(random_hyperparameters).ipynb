{
 "cells": [
  {
   "cell_type": "code",
   "execution_count": 1,
   "metadata": {},
   "outputs": [],
   "source": [
    "import pandas as pd \n",
    "import numpy as np"
   ]
  },
  {
   "cell_type": "code",
   "execution_count": 3,
   "metadata": {},
   "outputs": [],
   "source": [
    "from sklearn.base import BaseEstimator, ClassifierMixin\n",
    "from sklearn.tree import DecisionTreeClassifier\n",
    "from sklearn.model_selection import ParameterGrid"
   ]
  },
  {
   "cell_type": "code",
   "execution_count": 5,
   "metadata": {},
   "outputs": [],
   "source": [
    "class HyperParamClassifier(BaseEstimator, ClassifierMixin):\n",
    "\n",
    "    def __init__(self, param_grid):\n",
    "        self.param_grid = param_grid\n",
    "        self.model = None  # Placeholder for the trained model\n",
    "\n",
    "    def fit(self, X, y, n_estimators=5):\n",
    "        # Generate all possible hyperparameter combinations\n",
    "        all_param_combos = list(ParameterGrid(self.param_grid))\n",
    "\n",
    "        # Shuffle and select `n_estimators` random hyperparameter combinations\n",
    "        np.random.shuffle(all_param_combos)\n",
    "        chosen_combos = all_param_combos[:n_estimators]\n",
    "\n",
    "        # Store all trained models\n",
    "        self.estimators_ = []\n",
    "\n",
    "        # Train an estimator for each selected hyperparameter combination\n",
    "        for params in chosen_combos:\n",
    "            model = DecisionTreeClassifier(**params)  # Initialize Decision Tree\n",
    "            model.fit(X, y)  # Train on the dataset\n",
    "            self.estimators_.append(model)  # Store the trained model\n",
    "    \n",
    "        return self\n",
    "\n",
    "    def predict(self, X):\n",
    "        # Ensure the model has been trained before making predictions\n",
    "        if self.model is None:\n",
    "            raise ValueError(\"Model has not been trained. Call `fit` first.\")\n",
    "\n",
    "        # Use the trained DecisionTreeClassifier to make predictions\n",
    "        return self.model.predict(X)\n",
    "\n",
    "\n",
    "    def predict_proba(self, X):\n",
    "        if self.model is None:\n",
    "            raise ValueError(\"Model has not been trained. Call `fit` first.\")\n",
    "        \n",
    "        return self.model.predict_proba(X)"
   ]
  },
  {
   "cell_type": "code",
   "execution_count": 9,
   "metadata": {},
   "outputs": [],
   "source": [
    "from sklearn.model_selection import train_test_split\n",
    "from sklearn.metrics import accuracy_score"
   ]
  },
  {
   "cell_type": "code",
   "execution_count": 10,
   "metadata": {},
   "outputs": [
    {
     "name": "stdout",
     "output_type": "stream",
     "text": [
      "Number of trained models: 3\n",
      "Model 1 hyperparameters: {'ccp_alpha': 0.0, 'class_weight': None, 'criterion': 'gini', 'max_depth': 10, 'max_features': None, 'max_leaf_nodes': None, 'min_impurity_decrease': 0.0, 'min_samples_leaf': 1, 'min_samples_split': 5, 'min_weight_fraction_leaf': 0.0, 'monotonic_cst': None, 'random_state': None, 'splitter': 'best'}\n",
      "Model Accuracy on MNIST: 0.8581\n",
      "Model 2 hyperparameters: {'ccp_alpha': 0.0, 'class_weight': None, 'criterion': 'gini', 'max_depth': 5, 'max_features': None, 'max_leaf_nodes': None, 'min_impurity_decrease': 0.0, 'min_samples_leaf': 1, 'min_samples_split': 2, 'min_weight_fraction_leaf': 0.0, 'monotonic_cst': None, 'random_state': None, 'splitter': 'best'}\n",
      "Model Accuracy on MNIST: 0.6579\n",
      "Model 3 hyperparameters: {'ccp_alpha': 0.0, 'class_weight': None, 'criterion': 'gini', 'max_depth': 15, 'max_features': None, 'max_leaf_nodes': None, 'min_impurity_decrease': 0.0, 'min_samples_leaf': 1, 'min_samples_split': 5, 'min_weight_fraction_leaf': 0.0, 'monotonic_cst': None, 'random_state': None, 'splitter': 'best'}\n",
      "Model Accuracy on MNIST: 0.8702\n"
     ]
    }
   ],
   "source": [
    "# Define hyperparameter grid\n",
    "param_grid = {\n",
    "    'max_depth': [5, 10, 15], \n",
    "    'min_samples_split': [2, 5, 10]\n",
    "}\n",
    "\n",
    "data = pd.read_csv(\"mnist_train.csv\")\n",
    "\n",
    "X = data.drop(\"label\",axis = 1)  # X = images, y = digit labels\n",
    "y = data[\"label\"]\n",
    "# Convert labels to integers\n",
    "y = y.astype(np.int64)\n",
    "\n",
    "X_train, X_test, y_train, y_test = train_test_split(X, y, test_size=0.2, random_state=42)\n",
    "\n",
    "# Initialize classifier\n",
    "clf = HyperParamClassifier(param_grid)\n",
    "\n",
    "# Train ensemble with 3 decision trees\n",
    "clf.fit(X_train, y_train, n_estimators=3)\n",
    "\n",
    "# Check trained models\n",
    "print(\"Number of trained models:\", len(clf.estimators_))\n",
    "for i, model in enumerate(clf.estimators_):\n",
    "    print(f\"Model {i+1} hyperparameters:\", model.get_params())\n",
    "    y_pred = model.predict(X_test)\n",
    "    accuracy = accuracy_score(y_test,y_pred)\n",
    "    print(f\"Model Accuracy on MNIST: {accuracy:.4f}\")\n"
   ]
  },
  {
   "cell_type": "code",
   "execution_count": null,
   "metadata": {},
   "outputs": [],
   "source": []
  }
 ],
 "metadata": {
  "kernelspec": {
   "display_name": "aml",
   "language": "python",
   "name": "python3"
  },
  "language_info": {
   "codemirror_mode": {
    "name": "ipython",
    "version": 3
   },
   "file_extension": ".py",
   "mimetype": "text/x-python",
   "name": "python",
   "nbconvert_exporter": "python",
   "pygments_lexer": "ipython3",
   "version": "3.13.1"
  }
 },
 "nbformat": 4,
 "nbformat_minor": 2
}
