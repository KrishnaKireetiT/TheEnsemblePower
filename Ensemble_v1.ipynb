{
 "cells": [
  {
   "cell_type": "markdown",
   "metadata": {},
   "source": [
    "# COMP47590: Advanced Machine Learning\n",
    "# Assignment 1: Benchmarking Esemble Methods"
   ]
  },
  {
   "cell_type": "markdown",
   "metadata": {},
   "source": [
    "Name(s): \n",
    "\n",
    "Student Number(s):"
   ]
  },
  {
   "cell_type": "markdown",
   "metadata": {},
   "source": [
    "## Import Packages Etc"
   ]
  },
  {
   "cell_type": "code",
   "execution_count": 3,
   "metadata": {},
   "outputs": [],
   "source": [
    "import pandas as pd\n",
    "import numpy as np\n",
    "import matplotlib.pyplot as plt\n",
    "from matplotlib import pyplot\n",
    "%matplotlib inline\n",
    "from random import randint\n",
    "import math\n",
    "import sklearn"
   ]
  },
  {
   "cell_type": "markdown",
   "metadata": {},
   "source": [
    "## Task 1: Define HyperParamClassifier"
   ]
  },
  {
   "cell_type": "markdown",
   "metadata": {},
   "source": [
    "HyperParamClassifier class."
   ]
  },
  {
   "cell_type": "code",
   "execution_count": 5,
   "metadata": {},
   "outputs": [],
   "source": [
    "from sklearn.base import BaseEstimator, ClassifierMixin\n",
    "from sklearn.tree import DecisionTreeClassifier\n",
    "\n",
    "class HyperParamClassifier(BaseEstimator, ClassifierMixin):\n",
    "    \"\"\"An ensemble classifier that trains a single Decision Tree classifier \n",
    "       with specific hyperparameters.\n",
    "    \n",
    "    Parameters\n",
    "    ----------\n",
    "    param_grid : dict\n",
    "        A dictionary defining the hyperparameter values for the Decision Tree.\n",
    "        Example: {'max_depth': [3, 5, 7], 'min_samples_split': [2, 5, 10]}\n",
    "    \n",
    "    Attributes\n",
    "    ----------\n",
    "    model : DecisionTreeClassifier\n",
    "        The trained Decision Tree model.\n",
    "    \n",
    "    Notes\n",
    "    -----\n",
    "    This classifier trains a single DecisionTreeClassifier with a selected \n",
    "    hyperparameter configuration.\n",
    "    \n",
    "    See also\n",
    "    --------\n",
    "    DecisionTreeClassifier : The base model used in this classifier.\n",
    "    \n",
    "    Examples\n",
    "    --------\n",
    "    >>> param_grid = {'max_depth': [5], 'min_samples_split': [2]}\n",
    "    >>> clf = HyperParamClassifier(param_grid)\n",
    "    >>> clf.fit(X_train, y_train)\n",
    "    >>> predictions = clf.predict(X_test)\n",
    "    \"\"\"\n",
    "\n",
    "    def __init__(self, param_grid):\n",
    "        \"\"\"Initialize a HyperParamClassifier with a Decision Tree model.\n",
    "        \n",
    "        Parameters\n",
    "        ----------\n",
    "        param_grid : dict\n",
    "            A dictionary specifying hyperparameter values for the Decision Tree.\n",
    "        \"\"\"\n",
    "        self.param_grid = param_grid\n",
    "        self.model = None  # Placeholder for the trained model\n",
    "\n",
    "    def fit(self, X, y):\n",
    "        \"\"\"Train a Decision Tree classifier with the provided hyperparameters.\n",
    "        \n",
    "        Parameters\n",
    "        ----------\n",
    "        X : array-like, shape = [n_samples, n_features]\n",
    "            The training input samples. \n",
    "        y : array-like, shape = [n_samples] \n",
    "            The target values (class labels) as integers or strings.\n",
    "        \n",
    "        Returns\n",
    "        -------\n",
    "        self : object\n",
    "        \"\"\"\n",
    "        # Select the first set of hyperparameters from the dictionary\n",
    "        best_params = {key: values[0] for key, values in self.param_grid.items()}\n",
    "        \n",
    "        # Initialize the Decision Tree model with the selected parameters\n",
    "        self.model = DecisionTreeClassifier(**best_params)\n",
    "        \n",
    "        # Train the model using the training data\n",
    "        self.model.fit(X, y)\n",
    "        \n",
    "        return self\n",
    "\n",
    "    def predict(self, X):\n",
    "        \"\"\"Predict class labels for the input samples X.\n",
    "\n",
    "        Parameters\n",
    "        ----------\n",
    "        X : array-like, shape = [n_samples, n_features]\n",
    "            The input samples. \n",
    "\n",
    "        Returns\n",
    "        -------\n",
    "        p : array of shape = [n_samples]\n",
    "            The predicted class labels of the input samples.\n",
    "        \"\"\"\n",
    "        # Ensure the model has been trained before making predictions\n",
    "        if self.model is None:\n",
    "            raise ValueError(\"Model has not been trained. Call `fit` first.\")\n",
    "\n",
    "        # Use the trained DecisionTreeClassifier to make predictions\n",
    "        return self.model.predict(X)\n",
    "\n",
    "\n",
    "    def predict_proba(self, X):\n",
    "        \"\"\"Predict class probabilities for the input samples X.\n",
    "        \n",
    "        Parameters\n",
    "        ----------\n",
    "        X : array-like, shape = [n_samples, n_features]\n",
    "            The input samples. \n",
    "        \n",
    "        Returns\n",
    "        -------\n",
    "        p : array of shape = [n_samples, n_classes]\n",
    "            The predicted class label probabilities of the input samples.\n",
    "        \"\"\"\n",
    "        if self.model is None:\n",
    "            raise ValueError(\"Model has not been trained. Call `fit` first.\")\n",
    "        \n",
    "        return self.model.predict_proba(X)\n"
   ]
  },
  {
   "cell_type": "code",
   "execution_count": 6,
   "metadata": {},
   "outputs": [
    {
     "name": "stdout",
     "output_type": "stream",
     "text": [
      "Model Accuracy on MNIST: 0.8573\n"
     ]
    }
   ],
   "source": [
    "from sklearn.datasets import fetch_openml\n",
    "from sklearn.model_selection import train_test_split\n",
    "from sklearn.metrics import accuracy_score\n",
    "import numpy as np\n",
    "\n",
    "\n",
    "data = pd.read_csv(\"mnist_train.csv\")\n",
    "\n",
    "# 1️⃣ Load the MNIST dataset (70,000 images of handwritten digits)\n",
    "\n",
    "X = data.drop(\"label\",axis = 1)  # X = images, y = digit labels\n",
    "y = data[\"label\"]\n",
    "# Convert labels to integers\n",
    "y = y.astype(np.int64)\n",
    "\n",
    "# 2️⃣ Normalize pixel values (optional for tree-based models)\n",
    " # Decision trees don't need this, but it's useful for consistency\n",
    "\n",
    "# 3️⃣ Split the dataset into training (80%) and testing (20%) sets\n",
    "X_train, X_test, y_train, y_test = train_test_split(X, y, test_size=0.2, random_state=42)\n",
    "\n",
    "# 4️⃣ Define hyperparameters for DecisionTreeClassifier\n",
    "param_grid = {\n",
    "    'max_depth': [10],  # Limit tree depth to prevent overfitting\n",
    "    'min_samples_split': [5]  # Minimum samples required to split a node\n",
    "}\n",
    "\n",
    "# 5️⃣ Initialize the HyperParamClassifier\n",
    "clf = HyperParamClassifier(param_grid)\n",
    "\n",
    "# 6️⃣ Train the model\n",
    "clf.fit(X_train, y_train)\n",
    "\n",
    "# 7️⃣ Make predictions\n",
    "y_pred = clf.predict(X_test)\n",
    "\n",
    "# 8️⃣ Evaluate the model\n",
    "accuracy = accuracy_score(y_test, y_pred)\n",
    "print(f\"Model Accuracy on MNIST: {accuracy:.4f}\")\n"
   ]
  },
  {
   "cell_type": "code",
   "execution_count": null,
   "metadata": {},
   "outputs": [],
   "source": []
  },
  {
   "cell_type": "markdown",
   "metadata": {},
   "source": [
    "## Test the HyperParamClassifier"
   ]
  },
  {
   "cell_type": "markdown",
   "metadata": {},
   "source": [
    "Perform a simple test using the HyperParamClassifier on the Iris dataset"
   ]
  },
  {
   "cell_type": "code",
   "execution_count": 5,
   "metadata": {},
   "outputs": [
    {
     "name": "stdout",
     "output_type": "stream",
     "text": [
      "             precision    recall  f1-score   support\n",
      "\n",
      "          0       1.00      1.00      1.00        50\n",
      "          1       1.00      0.96      0.98        50\n",
      "          2       0.96      1.00      0.98        50\n",
      "\n",
      "avg / total       0.99      0.99      0.99       150\n",
      "\n",
      "Confusion Matrix\n"
     ]
    },
    {
     "data": {
      "text/html": [
       "<div>\n",
       "<style scoped>\n",
       "    .dataframe tbody tr th:only-of-type {\n",
       "        vertical-align: middle;\n",
       "    }\n",
       "\n",
       "    .dataframe tbody tr th {\n",
       "        vertical-align: top;\n",
       "    }\n",
       "\n",
       "    .dataframe thead th {\n",
       "        text-align: right;\n",
       "    }\n",
       "</style>\n",
       "<table border=\"1\" class=\"dataframe\">\n",
       "  <thead>\n",
       "    <tr style=\"text-align: right;\">\n",
       "      <th>Predicted</th>\n",
       "      <th>0</th>\n",
       "      <th>1</th>\n",
       "      <th>2</th>\n",
       "      <th>All</th>\n",
       "    </tr>\n",
       "    <tr>\n",
       "      <th>True</th>\n",
       "      <th></th>\n",
       "      <th></th>\n",
       "      <th></th>\n",
       "      <th></th>\n",
       "    </tr>\n",
       "  </thead>\n",
       "  <tbody>\n",
       "    <tr>\n",
       "      <th>0</th>\n",
       "      <td>50</td>\n",
       "      <td>0</td>\n",
       "      <td>0</td>\n",
       "      <td>50</td>\n",
       "    </tr>\n",
       "    <tr>\n",
       "      <th>1</th>\n",
       "      <td>0</td>\n",
       "      <td>48</td>\n",
       "      <td>2</td>\n",
       "      <td>50</td>\n",
       "    </tr>\n",
       "    <tr>\n",
       "      <th>2</th>\n",
       "      <td>0</td>\n",
       "      <td>0</td>\n",
       "      <td>50</td>\n",
       "      <td>50</td>\n",
       "    </tr>\n",
       "    <tr>\n",
       "      <th>All</th>\n",
       "      <td>50</td>\n",
       "      <td>48</td>\n",
       "      <td>52</td>\n",
       "      <td>150</td>\n",
       "    </tr>\n",
       "  </tbody>\n",
       "</table>\n",
       "</div>"
      ],
      "text/plain": [
       "Predicted   0   1   2  All\n",
       "True                      \n",
       "0          50   0   0   50\n",
       "1           0  48   2   50\n",
       "2           0   0  50   50\n",
       "All        50  48  52  150"
      ]
     },
     "metadata": {},
     "output_type": "display_data"
    }
   ],
   "source": [
    "from sklearn.datasets import load_iris\n",
    "iris = load_iris()\n",
    "clf = StackedEnsembleClassifier()\n",
    "clf.fit(iris.data, iris.target)\n",
    "y_pred = clf.predict(iris.data)\n",
    "print(metrics.classification_report(iris.target, y_pred))\n",
    "print(\"Confusion Matrix\")\n",
    "display(pd.crosstab(np.array(iris.target), y_pred, rownames=['True'], colnames=['Predicted'], margins=True))"
   ]
  },
  {
   "cell_type": "markdown",
   "metadata": {},
   "source": [
    "Perform a cross validation experiment"
   ]
  },
  {
   "cell_type": "code",
   "execution_count": 6,
   "metadata": {},
   "outputs": [
    {
     "name": "stdout",
     "output_type": "stream",
     "text": [
      "[1.         0.93333333 1.         0.93333333 0.93333333 0.93333333\n",
      " 0.86666667 1.         1.         1.        ]\n",
      "0.96  +/-  0.044221663871405324\n"
     ]
    }
   ],
   "source": [
    "scores = cross_val_score(clf, iris.data, iris.target, cv=10)\n",
    "print(scores)\n",
    "print(np.mean(scores), \" +/- \", np.std(scores))"
   ]
  },
  {
   "cell_type": "markdown",
   "metadata": {},
   "source": [
    "## Task 2: Design the Evaluation Experiment"
   ]
  },
  {
   "cell_type": "markdown",
   "metadata": {},
   "source": [
    "Describe datasets and expeimental apporach and setup infrastructure for experimentation. "
   ]
  },
  {
   "cell_type": "code",
   "execution_count": null,
   "metadata": {},
   "outputs": [],
   "source": [
    "# Write your code here\n"
   ]
  },
  {
   "cell_type": "markdown",
   "metadata": {},
   "source": [
    "## Task 3: Execute Evalution Experiment"
   ]
  },
  {
   "cell_type": "code",
   "execution_count": null,
   "metadata": {},
   "outputs": [],
   "source": [
    "# Write your code here\n"
   ]
  },
  {
   "cell_type": "markdown",
   "metadata": {},
   "source": [
    "### Experiment Results Summary\n",
    "Present a series of tables and graphs illustraitng experiment results. "
   ]
  },
  {
   "cell_type": "code",
   "execution_count": null,
   "metadata": {},
   "outputs": [],
   "source": [
    "# Write your code here\n"
   ]
  },
  {
   "cell_type": "markdown",
   "metadata": {},
   "source": [
    "## Task 4: Reflection\n",
    "A short (less than 400 words) reflection on the results of the experiment and the experience of running it. \n"
   ]
  },
  {
   "cell_type": "markdown",
   "metadata": {},
   "source": [
    "*Write your reflection here*\n"
   ]
  },
  {
   "cell_type": "markdown",
   "metadata": {},
   "source": [
    "\n"
   ]
  },
  {
   "cell_type": "code",
   "execution_count": null,
   "metadata": {},
   "outputs": [],
   "source": [
    "from sklearn.tree import DecisionTreeClassifier\n",
    "from sklearn.base import BaseEstimator, ClassifierMixin\n",
    "import numpy as np\n",
    "\n",
    "class HyperParamEnsembleClassifier(BaseEstimator, ClassifierMixin):\n",
    "    def __init__(self, param_grid, voting='hard'):\n",
    "        \"\"\"\n",
    "        Parameters:\n",
    "        -----------\n",
    "        param_grid : dict\n",
    "            A dictionary defining the hyperparameter choices for the Decision Tree.\n",
    "            Example: {'max_depth': [3, 5, 7], 'min_samples_split': [2, 5, 10]}\n",
    "\n",
    "        voting : str, default='hard'\n",
    "            - 'hard': Uses majority voting.\n",
    "            - 'soft': Uses averaged probabilities.\n",
    "        \"\"\"\n",
    "        self.param_grid = param_grid\n",
    "        self.voting = voting\n",
    "        self.model = None  # Will store the trained DecisionTreeClassifier\n",
    "\n",
    "    def fit(self, X, y):\n",
    "        \"\"\"\n",
    "        Train a Decision Tree classifier using the best hyperparameter combination.\n",
    "\n",
    "        Parameters:\n",
    "        -----------\n",
    "        X : array-like, shape (n_samples, n_features)\n",
    "            Feature matrix (training data).\n",
    "        \n",
    "        y : array-like, shape (n_samples,)\n",
    "            Target labels.\n",
    "\n",
    "        Returns:\n",
    "        --------\n",
    "        self : object\n",
    "            Trained classifier.\n",
    "        \"\"\"\n",
    "        # Select a set of hyperparameters (e.g., the first set in the grid)\n",
    "        best_params = {key: values[0] for key, values in self.param_grid.items()}\n",
    "        \n",
    "        # Initialize a Decision Tree with the selected hyperparameters\n",
    "        self.model = DecisionTreeClassifier(**best_params)\n",
    "        \n",
    "        # Train the model on the dataset\n",
    "        self.model.fit(X, y)\n",
    "        \n",
    "        return self\n"
   ]
  },
  {
   "cell_type": "markdown",
   "metadata": {},
   "source": [
    "sanketh"
   ]
  },
  {
   "cell_type": "code",
   "execution_count": null,
   "metadata": {},
   "outputs": [],
   "source": []
  }
 ],
 "metadata": {
  "kernelspec": {
   "display_name": "aml",
   "language": "python",
   "name": "python3"
  },
  "language_info": {
   "codemirror_mode": {
    "name": "ipython",
    "version": 3
   },
   "file_extension": ".py",
   "mimetype": "text/x-python",
   "name": "python",
   "nbconvert_exporter": "python",
   "pygments_lexer": "ipython3",
   "version": "3.13.1"
  }
 },
 "nbformat": 4,
 "nbformat_minor": 4
}
